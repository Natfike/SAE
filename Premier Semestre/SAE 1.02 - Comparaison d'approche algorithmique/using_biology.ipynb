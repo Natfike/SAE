{
 "cells": [
  {
   "cell_type": "markdown",
   "id": "a023b3ed",
   "metadata": {},
   "source": [
    "# Notebook de présentation de la SAE S01.02"
   ]
  },
  {
   "cell_type": "markdown",
   "id": "47840237",
   "metadata": {},
   "source": [
    "## Binôme \n",
    "\n",
    "* Hain Erwan"
   ]
  },
  {
   "cell_type": "markdown",
   "id": "9873c841",
   "metadata": {},
   "source": [
    "# SAÉ S1.02 : ARN et protéines"
   ]
  },
  {
   "cell_type": "markdown",
   "id": "3e7654aa",
   "metadata": {},
   "source": [
    "<p>Ce document correspond au sujet de la SAÉ S1.02 de l'année universitaire 2021/2022. Ce travail est à faire par binôme en autonomie. La SAÉ est découpée en deux parties. <strong>La première partie devra être rendue avant le 5 décembre et la deuxième partie avant le 16 janvier.</strong><p/>\n",
    "\n",
    "<p><strong>Attention :</strong> L'évaluation de cette SAÉ se fera notamment durant les contrôles de R101. L'évaluation de la partie 1 de la SAÉ se fera en partie lors du troisième contrôle de  la ressource R101 (prévu le 8 décembre 2021). L'évaluation de la partie 2 se fera en partie lors du dernier contrôle de R101 (prévu le 21 janvier 2022). Pour les contrôles, il faut connaître le sujet et l\n",
    "e code (les structures de données utilisées et les diffférentes fonctions).</p>"
   ]
  },
  {
   "cell_type": "markdown",
   "id": "b35678ae",
   "metadata": {},
   "source": [
    "## Sujet\n",
    "\n",
    "<hr/>\n",
    "\n",
    "### Partie 1\n",
    "<p> Les exercices s'appuient sur la notion d'<a href=\"https://fr.wikipedia.org/wiki/Acide_d%C3%A9soxyribonucl%C3%A9ique\">ADN</a>/<a href=\"https://fr.wikipedia.org/wiki/Acide_ribonucl%C3%A9ique\">ARN</a>. On supposera dans l'ensemble des exercices que l'ADN est codé sous la forme d'une chaîne de caractères contenant uniquement les lettres majuscules <code>A</code>, <code>T</code>, <code>G</code>, <code>C</code> correspondant aux différentes bases (adénine, cytosine, guanine ou thymine).\n",
    "    \n",
    "L'ARN sera codé sous la forme d'une chaîne de caractères contenant uniquement les lettres majuscules <code>A</code>, <code>U</code>, <code>G</code>, <code>C</code>.</p>"
   ]
  },
  {
   "cell_type": "markdown",
   "id": "73d9041a",
   "metadata": {},
   "source": [
    "#### Question 1\n",
    "<p>Définir la fonction <code>est_base</code> prenant en paramètre un caractère et retournant <code>True</code> si ce caractère correspond à une base de l'ADN (est un des caractères <code>A</code>, <code>T</code>, <code>G</code>, <code>C</code>), et <code>False</code> sinon.</p>\n",
    "\n",
    "<p>À titre d'exemple, l'appel de la fonction <code>est_base</code> avec la valeur <code>\"A\"</code> doit retourner <code>True</code> alors que l'appel avec la valeur <code>\"z\"</code> doit retourner <code>False</code>.</p>"
   ]
  },
  {
   "cell_type": "code",
   "execution_count": 2,
   "id": "64a8544e",
   "metadata": {},
   "outputs": [
    {
     "name": "stdout",
     "output_type": "stream",
     "text": [
      "Test ok !\n"
     ]
    }
   ],
   "source": [
    "def est_base(c):\n",
    "    if c != \"A\" and c != \"T\" and c != \"G\" and c != \"C\" :\n",
    "        return False\n",
    "    else :\n",
    "        return True\n",
    "\n",
    "def test_est_base():\n",
    "    assert est_base(\"A\")\n",
    "    assert est_base(\"G\")\n",
    "    assert est_base(\"C\")\n",
    "    assert est_base(\"T\")\n",
    "    assert not est_base(\"t\")\n",
    "    assert not est_base(\"&\")\n",
    "    assert not est_base(\"a\")\n",
    "    assert not est_base(\"c\")\n",
    "    assert not est_base(\"g\")\n",
    "    print(\"Test ok !\")\n",
    "    \n",
    "test_est_base()"
   ]
  },
  {
   "cell_type": "markdown",
   "id": "bcd593b5",
   "metadata": {},
   "source": [
    "#### Question 2\n",
    "\n",
    "<p>Définir la fonction <code>est_adn</code> prenant en paramètre une chaîne de caractères et retournant <code>True</code> si la chaîne correspond à un ADN (est constituée uniquement des caractères <code>A</code>, <code>T</code>, <code>G</code>, <code>C</code>), et <code>False</code> sinon.</p>\n",
    "\n",
    "<p>À titre d'exemple, l'appel de la fonction <code>est_adn</code> avec la valeur <code>\"ATGTCAAA\"</code> doit retourner <code>True</code> alors que l'appel avec la valeur <code>\"ATBOAATG\"</code> doit retourner <code>False</code>.</p>"
   ]
  },
  {
   "cell_type": "code",
   "execution_count": 3,
   "id": "dfb46cec",
   "metadata": {},
   "outputs": [
    {
     "name": "stdout",
     "output_type": "stream",
     "text": [
      "Test ok !\n"
     ]
    }
   ],
   "source": [
    "def est_adn(s):\n",
    "    i = 0\n",
    "    while i < len(s) :\n",
    "        if not est_base(s[i]) :\n",
    "            return False\n",
    "        i += 1\n",
    "    return True\n",
    "\n",
    "def test_est_adn():\n",
    "    assert est_adn(\"ATGTCAAA\")\n",
    "    assert not est_adn(\"ATBOA ATG\")\n",
    "    assert not est_adn(\"ATGtCAAA\")\n",
    "    assert est_adn(\"ATTGGCCCAAAATTTCGG\")\n",
    "    print(\"Test ok !\")\n",
    "\n",
    "test_est_adn()"
   ]
  },
  {
   "cell_type": "markdown",
   "id": "bde6a7df",
   "metadata": {},
   "source": [
    "#### Question 3\n",
    "\n",
    "<p>L'ARN est construit à partir de l'ADN en remplaçant la thymine <code>T</code> par l'uracile codé par la lettre <code>U</code>. Ainsi la transcription de la séquence ADN <code>ATTGCA</code> en ARN donne <code>AUUGCA</code>.</p>\n",
    "\n",
    "<p>Définir la fonction <code>arn</code> prenant en paramètre une séquence d'ADN et retournant la séquence ARN associée.</p>\n",
    "\n",
    "<p>À titre d'exemple, l'appel de la fonction <code>arn</code> avec la valeur <code>\"ATGTCAAA\"</code> doit retourner <code>\"AUGUCAAA\"</code>.</p>\n",
    "\n",
    "<p><strong>Attention :</strong> si la chaîne passée en paramètre ne correspond pas à de l'ADN, la fonction <code>arn</code> doit retourner la valeur <code>None</code>.</p>"
   ]
  },
  {
   "cell_type": "code",
   "execution_count": 4,
   "id": "3b226141",
   "metadata": {},
   "outputs": [
    {
     "name": "stdout",
     "output_type": "stream",
     "text": [
      "Test ok !\n"
     ]
    }
   ],
   "source": [
    "def arn(adn):\n",
    "    if not est_adn(adn) :\n",
    "        return None\n",
    "    i = 0\n",
    "    arn = \"\"\n",
    "    while i < len(adn) :\n",
    "        if adn[i] == \"T\" :\n",
    "            arn += (\"U\")\n",
    "        else :\n",
    "            arn += adn[i]\n",
    "        i += 1\n",
    "    return arn\n",
    "\n",
    "def test_arn():\n",
    "    assert arn(\"ATGTCAAA\") == \"AUGUCAAA\"\n",
    "    assert not arn(\"ATGTATCC\") == \"ATGTATCC\"\n",
    "    assert arn(\"ATBOAATG\") == None\n",
    "    print(\"Test ok !\")\n",
    "    \n",
    "test_arn()"
   ]
  },
  {
   "cell_type": "markdown",
   "id": "f782f35a",
   "metadata": {},
   "source": [
    "#### Question 4\n",
    "\n",
    "<p>Un codon est une séquence de trois bases sur un ARN (messager) spécifiant l'un des 22 acides aminés protéinogènes dont la succession sur l'ARN détermine la structure primaire de la protéine à synthétiser <em>(définition issue de Wikipedia)</em>.</p>\n",
    "\n",
    "<p>Définir la fonction <code>arn_to_codons</code> prenant en paramètre une chaîne de caractères correspondant à de l'ARN et découpant cet ARN en codons. La fonction doit retourner un tableau contenant la liste des codons.\n",
    "Par exemple, l'appel de la fonction <code>arn_to_codons</code> avec l'ARN <code>\"CGUUAGGGG\"</code> doit retourner le tableau <code>[\"CGU\", \"UAG\", \"GGG\"]</code>.</p>\n",
    "\n",
    "<p><strong>Remarque :</strong> Si le nombre de nucléotides dans l'ARN n'est pas un multiple de 3, les derniers sont ignorés. Par exemple, les ARN <code>\"CGUAAU\"</code> et <code>\"CGUAAUGC\"</code> donnent tous les deux la séquence de codons <code>[\"CGU\", \"AAU\"]</code>.</p>"
   ]
  },
  {
   "cell_type": "code",
   "execution_count": 5,
   "id": "cea57513",
   "metadata": {},
   "outputs": [
    {
     "name": "stdout",
     "output_type": "stream",
     "text": [
      "Test ok !\n"
     ]
    }
   ],
   "source": [
    "def arn_to_codons(arn):\n",
    "    i = 0\n",
    "    nb = len(arn) - len(arn)%3\n",
    "    codon = []\n",
    "    while i < nb :\n",
    "        codon.append(arn[i] + arn[i+1] + arn[i+2])\n",
    "        i += 3\n",
    "    return codon\n",
    "\n",
    "def test_arn_to_codons():\n",
    "    assert arn_to_codons(\"CGUAAUGCCCUU\") == ['CGU', 'AAU', 'GCC', 'CUU']\n",
    "    assert arn_to_codons(\"CGUAAUGCCCU\") == ['CGU', 'AAU', 'GCC']\n",
    "    assert arn_to_codons(\"CGUCGUCGUC\") == ['CGU', 'CGU', 'CGU']\n",
    "    print(\"Test ok !\")\n",
    "    \n",
    "test_arn_to_codons()"
   ]
  },
  {
   "cell_type": "markdown",
   "id": "7a303adf",
   "metadata": {},
   "source": [
    "#### Question 5\n",
    "\n",
    "<p> Chaque codon correspond à un acide aminé. Par exemple, le codon <code>UUU</code> correspond à l'acide aminé Phenylalanine. Plusieurs codons correspondent à un même acide aminé. Certains codons, correspondant à la fin du séquençage des acides aminés, sont appelés <em>codons stop</em>. C'est le cas du codon <code>UAA</code> par exemple.</p>\n",
    "\n",
    "<p>Le fichier <code>data/codons_aa.json</code> contient la correspondance entre codons et acides aminés au format JSON. Les codons qui ne sont pas dans le fichier sont les codons stop.</p>\n",
    "\n",
    "\n",
    "* Définir la fonction <code>load_dico_codons_aa</code> qui prend en paramètre un fichier au format JSON et retourne la structure de données chargée en mémoire à partir du JSON.\n",
    "\n",
    "\n",
    "* Définir la fonction <code>codons_stop</code> prenant en paramètre un dictionnaire dont les clés sont les codons et les valeurs les acides aminés correspondants (chaînes de caractères). La fonction retournera un tableau contenant l'ensemble des codons stop, c'est-à-dire l'ensemble des codons possibles avec les caractères <code>AUGC</code> qui ne sont pas des clés du dictionnaire.\n",
    "\n",
    "\n",
    "<strong>Remarque :</strong> Créer une variable initialisée avec les données contenues dans un fichier au format JSON se fait très facilement en python. Pour plus d'information, relire la fin du <a href=\"https://github.com/iutVilletaneuseDptInfo/M1102/blob/master/09_Dictionnnaires/cours9.ipynb\">cours 9 du module M1102</a>."
   ]
  },
  {
   "cell_type": "code",
   "execution_count": 6,
   "id": "5ca72e52",
   "metadata": {},
   "outputs": [
    {
     "data": {
      "text/plain": [
       "{'UUU': 'Phenylalanine',\n",
       " 'UUC': 'Phenylalanine',\n",
       " 'UUA': 'Leucine',\n",
       " 'UUG': 'Leucine',\n",
       " 'CUU': 'Leucine',\n",
       " 'CUC': 'Leucine',\n",
       " 'CUA': 'Leucine',\n",
       " 'CUG': 'Leucine',\n",
       " 'AUU': 'Isoleucine',\n",
       " 'AUC': 'Isoleucine',\n",
       " 'AUA': 'Methionine',\n",
       " 'AUG': 'Methionine',\n",
       " 'GUU': 'Valine',\n",
       " 'GUC': 'Valine',\n",
       " 'GUA': 'Valine',\n",
       " 'GUG': 'Valine',\n",
       " 'UCU': 'Serine',\n",
       " 'UCC': 'Serine',\n",
       " 'UCA': 'Serine',\n",
       " 'UCG': 'Serine',\n",
       " 'CCU': 'Proline',\n",
       " 'CCC': 'Proline',\n",
       " 'CCA': 'Proline',\n",
       " 'CCG': 'Proline',\n",
       " 'ACU': 'Threonine',\n",
       " 'ACC': 'Threonine',\n",
       " 'ACA': 'Threonine',\n",
       " 'ACG': 'Threonine',\n",
       " 'GCU': 'Alanine',\n",
       " 'GCC': 'Alanine',\n",
       " 'GCA': 'Alanine',\n",
       " 'GCG': 'Alanine',\n",
       " 'UAU': 'Tyrosine',\n",
       " 'UAC': 'Tyrosine',\n",
       " 'CAU': 'Histidine',\n",
       " 'CAC': 'Histidine',\n",
       " 'CAA': 'Glutamine',\n",
       " 'CAG': 'Glutamine',\n",
       " 'AAU': 'Asparagine',\n",
       " 'AAC': 'Asparagine',\n",
       " 'AAA': 'Lysine',\n",
       " 'AAG': 'Lysine',\n",
       " 'GAU': 'Aspartic acid',\n",
       " 'GAC': 'Aspartic acid',\n",
       " 'GAA': 'Glutamic acid',\n",
       " 'GAG': 'Glutamic acid',\n",
       " 'UGU': 'Cysteine',\n",
       " 'UGC': 'Cysteine',\n",
       " 'UGA': 'Tryptophan',\n",
       " 'UGG': 'Tryptophan',\n",
       " 'CGU': 'Arginine',\n",
       " 'CGC': 'Arginine',\n",
       " 'CGA': 'Arginine',\n",
       " 'CGG': 'Arginine',\n",
       " 'AGU': 'Serine',\n",
       " 'AGC': 'Serine',\n",
       " 'GGU': 'Glycine',\n",
       " 'GGC': 'Glycine',\n",
       " 'GGA': 'Glycine',\n",
       " 'GGG': 'Glycine'}"
      ]
     },
     "execution_count": 6,
     "metadata": {},
     "output_type": "execute_result"
    }
   ],
   "source": [
    "from json import *\n",
    "def load_dico_codons_aa(filename):\n",
    "    fichier = open (filename, \"r\")\n",
    "    strjson = fichier.read()\n",
    "    dico = loads(strjson)\n",
    "    fichier.close()\n",
    "    return dico\n",
    "\n",
    "load_dico_codons_aa(\"./data/codons_aa.json\")"
   ]
  },
  {
   "cell_type": "code",
   "execution_count": 7,
   "id": "ad4aa1bf",
   "metadata": {},
   "outputs": [
    {
     "name": "stdout",
     "output_type": "stream",
     "text": [
      "Test ok !\n"
     ]
    }
   ],
   "source": [
    "def codons_stop(dico_json):\n",
    "    tab_stop = []\n",
    "    tab_lettre = [\"U\",\"C\",\"A\",\"G\"]\n",
    "    i = 0\n",
    "    while i < 4 :\n",
    "        First = tab_lettre[i]\n",
    "        j = 0\n",
    "        while j < 4 :\n",
    "            Second = tab_lettre[j]\n",
    "            k = 0\n",
    "            while k < 4 :\n",
    "                Third = tab_lettre[k]\n",
    "                codon = First + Second + Third\n",
    "                if codon not in dico_json :\n",
    "                    tab_stop.append(codon)\n",
    "                k += 1\n",
    "            j += 1\n",
    "        i += 1\n",
    "    return tab_stop\n",
    "\n",
    "\n",
    "def test_codons_stop():\n",
    "    assert codons_stop(load_dico_codons_aa(\"./data/codons_aa.json\")) == ['UAA', 'UAG', 'AGA', 'AGG']\n",
    "    assert not codons_stop(load_dico_codons_aa(\"./data/codons_aa.json\")) == ['UUU']\n",
    "    print(\"Test ok !\")\n",
    "    \n",
    "test_codons_stop()"
   ]
  },
  {
   "cell_type": "markdown",
   "id": "1e8855de",
   "metadata": {},
   "source": [
    "#### Question 6\n",
    "\n",
    "<p>Définir la fonction <code>codons_to_aa</code> prenant en paramètre un tableau de codons (correspondant par exemple à une valeur retournée par la fonction <code>arn_to_codons</code>) et le dictionnaire de correspondance entre codons et acides aminés. La fonction devra retourner un tableau contenant les acides aminés correspondant aux codons.</p>\n",
    "\n",
    "<p><strong>Attention :</strong> Si l'un des codons est un codon stop, alors la synthèse (traduction des codons en acides aminés) s'arrête. Par exemple, si le tableau de codons passé en paramètre est <code>[\"CGU\", \"AAU\", \"UAA\", \"GGG\", \"CGU\"]</code>, alors le tableau retourné doit être <code>[\"Arginine\", \"Asparagine\"]</code> car le codon <code>CGU</code> correspond à l'Arginine, le codon <code>AAU</code> correspond à l'asparagine et <code>UAA</code> est un codon stop.</p>"
   ]
  },
  {
   "cell_type": "code",
   "execution_count": 8,
   "id": "cfcf9279",
   "metadata": {},
   "outputs": [
    {
     "name": "stdout",
     "output_type": "stream",
     "text": [
      "Test ok !\n"
     ]
    }
   ],
   "source": [
    "def codons_to_aa(codons, dico):\n",
    "    tab_stop = codons_stop(dico)\n",
    "    tab_aa = []\n",
    "    i = 0\n",
    "    while i < len(codons):\n",
    "        if codons[i] in tab_stop :\n",
    "            return tab_aa\n",
    "        else : \n",
    "            tab_aa.append(dico[codons[i]])\n",
    "        i += 1\n",
    "    return tab_aa\n",
    "\n",
    "\n",
    "def test_codons_to_aa():\n",
    "    dico = load_dico_codons_aa(\"./data/codons_aa.json\")\n",
    "    assert codons_to_aa( ['CGU', 'CGG', 'UUU', 'CUU'],dico)== ['Arginine', 'Arginine', 'Phenylalanine', 'Leucine']\n",
    "    assert codons_to_aa(['CGU', 'CGG', 'UAA', 'CUU'],dico) == ['Arginine', 'Arginine']\n",
    "    assert codons_to_aa(['UAA', 'UUU', 'UUU', 'UUU', 'UUU', 'UUU', 'UUU'],dico) == []\n",
    "    print(\"Test ok !\")\n",
    "    \n",
    "test_codons_to_aa()"
   ]
  },
  {
   "cell_type": "markdown",
   "id": "e03f8412",
   "metadata": {},
   "source": [
    "### Partie 2\n",
    "\n",
    "Le séquençage des acides aminés ne commence que lorsque le *codon start* est rencontré. Ce codon est le codon `AUG`. On appelle séquence codante l'ensemble des codons compris entre le codon start et un codon stop. Dans une séquence codante, le codon `AUG` correspond à l'acide aminé *Methionine*. Une séquence de codons peut contenir zéro, une ou plusieurs séquences codantes. Par exemple, la séquence `\"CGU\", \"UUU\", \"AUG\", \"CGU\", \"AUG\", \"AAU\", \"UAA\", \"AUG\", \"GGG\", \"CCC\",  \"CGU\", \"UAG\", \"GGG\"` contient deux séquences codantes : `\"CGU\", \"AUG\"` et `\"GGG\", \"CCC\", \"CGU\"` puisque `\"AAU\"` et `\"UAG\"` sont des codons stop.\n",
    "\n",
    "**Remarque :** Une séquence codante est délimitée par le codon start et un codon stop. Si la séquence de codons ne contient aucun codon stop, alors il n'y a pas de séquence codante.\n"
   ]
  },
  {
   "cell_type": "markdown",
   "id": "297c9e42",
   "metadata": {},
   "source": [
    "#### Question 1\n",
    "\n",
    "Définir la fonction `nextIndice` prenant en paramètre un tableau `tab`, un indice `ind` de `tab`, et un deuxième tableau `elements`. La fonction recherche dans le tableau `tab` à partir de l'indice `ind` et retourne l'indice de la première case du tableau `tab` contenant une valeur de `elements`.\n",
    "\n",
    "Par exemple, l'appel de la fonction `nextIndice` avec le tableau `tab` égal à `[\"bonjour\", \"hello\", \"buongiorno\", \"ciao\", \"bye\"]`, et le tableau `elements` égal à `[\"hello\", \"bye\"]` doit retourner 1 si `ind` est inférieur ou égal à 1 lors de l'appel, et 4 sinon.\n",
    "\n",
    "**Remarque :** si aucune valeur de `elements` n'apparaît dans `tab` à partir de l'indice `ind`, la fonction doit renvoyer la valeur `len(tab)`."
   ]
  },
  {
   "cell_type": "code",
   "execution_count": 9,
   "id": "641690ee",
   "metadata": {},
   "outputs": [
    {
     "name": "stdout",
     "output_type": "stream",
     "text": [
      "Test ok !\n"
     ]
    }
   ],
   "source": [
    "def nextIndice(tab,ind,elements):\n",
    "    while ind < len(tab):\n",
    "        i = 0\n",
    "        while i < len(elements):\n",
    "            if tab[ind] == elements[i] :\n",
    "                return ind\n",
    "            else :\n",
    "                i += 1\n",
    "        ind += 1\n",
    "    return len(tab)\n",
    "\n",
    "\n",
    "tab = [\"bonjour\", \"hello\", \"buongiorno\", \"ciao\", \"bye\"]\n",
    "elements = [\"hello\", \"bye\"]\n",
    "\n",
    "def test_nextIndice():\n",
    "    assert nextIndice(tab,0,elements) == 1\n",
    "    assert nextIndice(tab,1,elements) == 1\n",
    "    assert nextIndice(tab,2,elements) == 4\n",
    "    assert nextIndice(tab,3,elements) == 4\n",
    "    assert nextIndice(tab,4,elements) == 4\n",
    "    assert nextIndice(tab,5,elements) == 5\n",
    "    print(\"Test ok !\")\n",
    "test_nextIndice()"
   ]
  },
  {
   "cell_type": "markdown",
   "id": "2ed9496f",
   "metadata": {},
   "source": [
    "#### Question 2\n",
    "\n",
    "Définir la fonction `decoupe_sequence` prenant en paramètre trois tableaux `seq`, `start` et `stop`. La fonction doit découper le tableau `seq` en séquences et retourner un tableau contenant les différents morceaux. Un morceau dans le tableau `seq` est une partie non vide de `seq` comprise entre une valeur de `start` et une valeur de `stop`.\n",
    "\n",
    "L'appel de la fonction `decoupe_sequence` avec les tableaux \n",
    "```python\n",
    "seq = [\"val1\", \"début\", \"val2\", \"val3\", \"end\", \"val4\", \"fin\", \"begin\", \"val5\", \"fin\", \"val6\"]\n",
    "start = [\"début\", \"begin\"]\n",
    "stop = [\"fin\", \"end\"]\n",
    "```\n",
    "doit retourner\n",
    "```python\n",
    "[\n",
    "    [\"val2\", \"val3\"],\n",
    "    [\"val5\"]\n",
    "]\n",
    "```"
   ]
  },
  {
   "cell_type": "code",
   "execution_count": 10,
   "id": "0ade4d8e",
   "metadata": {},
   "outputs": [
    {
     "name": "stdout",
     "output_type": "stream",
     "text": [
      "Test ok !\n"
     ]
    }
   ],
   "source": [
    "def decoupe_sequence(seq,start,stop):\n",
    "    tab_morc = []\n",
    "    morc = []\n",
    "    enregistrement = False\n",
    "    i = 0\n",
    "    while i < len(seq):\n",
    "        if seq[i] in start and enregistrement == False :\n",
    "            enregistrement = True\n",
    "        elif seq[i] in stop :\n",
    "            enregistrement = False\n",
    "            if morc != [] :\n",
    "                tab_morc.append(morc)\n",
    "                morc = []\n",
    "        else :\n",
    "            if enregistrement == True :\n",
    "                morc.append(seq[i])\n",
    "        i += 1\n",
    "    return tab_morc\n",
    "\n",
    "\n",
    "seq = [\"val1\", \"début\", \"val2\", \"val3\", \"end\", \"val4\", \"fin\", \"begin\", \"val5\", \"fin\", \"val6\"]\n",
    "start = [\"début\", \"begin\"]\n",
    "stop = [\"fin\", \"end\"]\n",
    "\n",
    "def test_decoupe_sequence():\n",
    "    assert decoupe_sequence(seq,start,stop) == [['val2','val3'],[\"val5\"]]\n",
    "    print(\"Test ok !\")\n",
    "test_decoupe_sequence()"
   ]
  },
  {
   "cell_type": "markdown",
   "id": "396a1253",
   "metadata": {},
   "source": [
    "#### Question 3\n",
    "\n",
    "Définir la fonction `codons_to_seq_codantes` qui prend en paramètre une séquence de codons et le dictionnaire de correspondance entre codons et acides aminés, et découpe la séquence de codons en séquences codantes. Les différentes séquences sont stockées dans un tableau. L'apel de la fonction `codons_to_seq` avec la séquence  `[\"CGU\", \"UUU\", \"AUG\", \"CGU\", \"AUG\", \"AAU\", \"UAA\", \"AUG\", \"GGG\", \"CCC\",  \"CGU\", \"UAG\", \"GGG\"]` doit retourner le tableau :\n",
    "```python\n",
    "[\n",
    "    [\"CGU\", \"AUG\", \"AAU\"],\n",
    "    [\"GGG\", \"CCC\", \"CGU\"]\n",
    "]\n",
    "```\n",
    "\n",
    "**Remarque :** la fonction ne doit pas retourner de séquence codante vide."
   ]
  },
  {
   "cell_type": "code",
   "execution_count": 11,
   "id": "10c28345",
   "metadata": {},
   "outputs": [
    {
     "name": "stdout",
     "output_type": "stream",
     "text": [
      "Test ok !\n"
     ]
    }
   ],
   "source": [
    "def codons_to_seq_codantes(tab_cod, dico):\n",
    "    stop = codons_stop(dico)\n",
    "    start = [\"AUG\"]\n",
    "    seq = decoupe_sequence(tab_cod,start,stop)\n",
    "    if seq != [] :\n",
    "        return seq\n",
    "    else :\n",
    "        return \"Séquence vide\"\n",
    "    \n",
    "def test_codons_to_seq_codantes():\n",
    "    tab_cod = [\"CGU\", \"UUU\", \"AUG\",\"CGU\", \"AUG\",\"AAU\", \"UAA\", \"AUG\",\"GGG\", \"CCC\",  \"CGU\", \"UAG\", \"GGG\"]\n",
    "    dico = load_dico_codons_aa(\"./data/codons_aa.json\")\n",
    "    assert codons_to_seq_codantes(tab_cod,dico) == [[\"CGU\",\"AUG\",\"AAU\"],[\"GGG\",\"CCC\",\"CGU\"]]\n",
    "    print(\"Test ok !\")\n",
    "    \n",
    "test_codons_to_seq_codantes()"
   ]
  },
  {
   "cell_type": "markdown",
   "id": "242784f5",
   "metadata": {},
   "source": [
    "#### Question 4\n",
    "\n",
    "\n",
    "Définir la fonction `seq_codantes_to_seq_aas` prenant en paramètre un tableau de séquences codantes (même type que les valeurs retournées par la fonction précédente)  et le dictionnaire de correspondance entre codons et acides aminés, et retournant un tableau contenant les différentes séquences d'acides aminés codées par les différentes séquences codantes. L'appel de la fonction `seq_codantes_to_seq_aas` avec le tableau retourné dans l'exemple de la fonction `codons_to_seq` doit retourner le tableau :\n",
    "\n",
    "```python\n",
    "[\n",
    "    [\"Arginine\", \"Methionine\", \"Asparagine\"],\n",
    "    [\"Glycine\", \"Proline\", \"Arginine\"]\n",
    "]\n",
    "```\n"
   ]
  },
  {
   "cell_type": "code",
   "execution_count": 16,
   "id": "7d353af0",
   "metadata": {},
   "outputs": [
    {
     "name": "stdout",
     "output_type": "stream",
     "text": [
      "Test ok !\n"
     ]
    }
   ],
   "source": [
    "def seq_codantes_to_seq_aas(tab_seq,dico):\n",
    "    tab_seq_aa = []\n",
    "    i = 0\n",
    "    while i < len(tab_seq) :\n",
    "        j = 0\n",
    "        seq_aa = []\n",
    "        while j < len(tab_seq[i]):\n",
    "            seq_aa.append(dico[tab_seq[i][j]])\n",
    "            j += 1\n",
    "        tab_seq_aa.append(seq_aa)\n",
    "        i += 1\n",
    "    return tab_seq_aa\n",
    "\n",
    "\n",
    "\n",
    "def test_seq_codantes_to_seq_aas():\n",
    "    dico = load_dico_codons_aa(\"./data/codons_aa.json\")\n",
    "    tab_seq = [[\"CGU\",\"AUG\",\"AAU\"],[\"GGG\",\"CCC\",\"CGU\"]]\n",
    "    assert seq_codantes_to_seq_aas(tab_seq,dico) == [['Arginine','Methionine','Asparagine'],['Glycine','Proline','Arginine']]\n",
    "    print(\"Test ok !\")\n",
    "    \n",
    "test_seq_codantes_to_seq_aas()"
   ]
  },
  {
   "cell_type": "markdown",
   "id": "53ad0ca9",
   "metadata": {},
   "source": [
    "#### Question 5\n",
    "\n",
    "Définir la fonction `adn_encode_molecule` prenant en parmètre un brin d'ADN, le dictionnaire de correspondance entre codons et acides aminés et une molécule (séquence d'acide aminées). La fonction doit retourner `True` si l'ARN obtenu à partir de l'ADN puis découpé en codons contient une séquence codante correspondant à la molécule, c'est-à-dire si la séquence d'acide aminée correspondant à une séquence codante est la même que la molécule.\n",
    "Par exemple, l'appel de la fonction `adn_encode_molecule` avec l'ADN `\"CGTTTTATGCGTATGAATTAAATGGGGCCCCGTTAGGGG\"` et la molécule `[\"Glycine\", \"Proline\", \"Arginine\"]` doit retourner `True`."
   ]
  },
  {
   "cell_type": "code",
   "execution_count": 17,
   "id": "a9a7328f",
   "metadata": {},
   "outputs": [
    {
     "name": "stdout",
     "output_type": "stream",
     "text": [
      "Test ok !\n"
     ]
    }
   ],
   "source": [
    "def adn_encode_molecule(adn,dico,molécule):\n",
    "    if not est_adn(adn):\n",
    "        return \"Ceci n'est pas un brin d'adn valide\"\n",
    "    stop = codons_stop(dico)\n",
    "    start = [\"AUG\"]\n",
    "    \n",
    "    Arn = arn(adn)\n",
    "    codons = arn_to_codons(Arn)\n",
    "    seq_codante = codons_to_seq_codantes(codons,dico)\n",
    "    seq_aas = seq_codantes_to_seq_aas(seq_codante,dico)\n",
    "    if molécule in seq_aas :\n",
    "        return True\n",
    "    else:\n",
    "        return False\n",
    "    \n",
    "def test_adn_encode_molecule():\n",
    "    adn = \"CGTTTTATGCGTATGAATTAAATGGGGCCCCGTTAGGGG\"\n",
    "    molécule = [\"Glycine\", \"Proline\", \"Arginine\"]\n",
    "    dico = load_dico_codons_aa(\"./data/codons_aa.json\")\n",
    "    assert adn_encode_molecule(adn,dico,molécule)\n",
    "    print(\"Test ok !\")\n",
    "    \n",
    "test_adn_encode_molecule()"
   ]
  }
 ],
 "metadata": {
  "kernelspec": {
   "display_name": "Python 3",
   "language": "python",
   "name": "python3"
  },
  "language_info": {
   "codemirror_mode": {
    "name": "ipython",
    "version": 3
   },
   "file_extension": ".py",
   "mimetype": "text/x-python",
   "name": "python",
   "nbconvert_exporter": "python",
   "pygments_lexer": "ipython3",
   "version": "3.8.8"
  }
 },
 "nbformat": 4,
 "nbformat_minor": 5
}
